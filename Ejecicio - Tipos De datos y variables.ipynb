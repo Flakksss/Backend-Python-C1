{
 "cells": [
  {
   "cell_type": "markdown",
   "id": "2336d94a-08ec-4158-9313-78edfb6c62c0",
   "metadata": {},
   "source": [
    "### Calculator:)"
   ]
  },
  {
   "cell_type": "code",
   "execution_count": 1,
   "id": "135323f5-584c-4596-a9b1-0d3514e5cccc",
   "metadata": {},
   "outputs": [
    {
     "name": "stdout",
     "output_type": "stream",
     "text": [
      "Choose an option:\n",
      "1. SUM\n",
      "2. SUBSTRACTION\n",
      "3. DIVISION\n",
      "4. MULTIPLICATION\n",
      "5. POTENCY\n"
     ]
    },
    {
     "name": "stdin",
     "output_type": "stream",
     "text": [
      "Type the number of your election: 3\n",
      "Typpe the two numbers you want to multiplicate(you can use Octal, hexadecimal and binary values): 15 2\n"
     ]
    },
    {
     "name": "stdout",
     "output_type": "stream",
     "text": [
      "The result of multiplicate 15 * 2 is: 30\n"
     ]
    }
   ],
   "source": [
    "def sum_1():\n",
    "    a,b = input(\"Type the two numbers you want tu add, separated by spaces (you can use Octal, hexadecimal and binary values):\").split()\n",
    "    a = eval(a)\n",
    "    b = eval(b)\n",
    "    sum = a + b\n",
    "    print(f\"The result of add {a} + {b} is: {sum}\")\n",
    "\n",
    "def substraction_1():\n",
    "    a,b = input(\"Type the two numbers you want to subtract, separated by spaces(you can use Octal, hexadecimal and binary values):\").split()\n",
    "    a = eval(a)\n",
    "    b = eval(b)\n",
    "    substraction = a - b\n",
    "    print(f\"The result of substract {a} - {b} is: {substraction}\")\n",
    "\n",
    "def multiplication_1():\n",
    "    a,b = input(\"Typpe the two numbers you want to multiplicate(you can use Octal, hexadecimal and binary values):\").split()\n",
    "    a = eval(a)\n",
    "    b = eval(b)\n",
    "    multiplication = a * b\n",
    "    print(f\"The result of multiplicate {a} * {b} is: {multiplication}\")\n",
    "\n",
    "def division_1(): \n",
    "    a,b = input(\"Type the two numbers you want to divide(you can use Octal, hexadecimal and binary values):\").split()\n",
    "    a = eval(a)\n",
    "    b = eval(b)\n",
    "    division = a / b\n",
    "    print(f\"The result of divide {a} \\ {b} is: {division}\")\n",
    "\n",
    "def potency_1():\n",
    "    a,b = input(\"Type the two numbers you want to elevate(you can use Octal, hexadecimal and binary values):\").split()\n",
    "    a = eval(a)\n",
    "    b = eval(b)\n",
    "    potency = a ** b\n",
    "    print(f\"The result of potentiate {a} ^ {b} is: {potency}\")\n",
    "\n",
    "def mostrar_menu():\n",
    "    print(\"Choose an option:\")\n",
    "    print(\"1. SUM\")\n",
    "    print(\"2. SUBSTRACTION\")\n",
    "    print(\"3. DIVISION\")\n",
    "    print(\"4. MULTIPLICATION\")\n",
    "    print(\"5. POTENCY\")\n",
    "    \n",
    "def main():\n",
    "    mostrar_menu()\n",
    "    OPERACION = input(\"Type the number of your election:\")\n",
    "    \n",
    "    if OPERACION == \"1\":\n",
    "        sum_1()\n",
    "    elif OPERACION == \"2\":\n",
    "        substraction_1()\n",
    "    elif OPERACION == \"3\":\n",
    "        multiplication_1()\n",
    "    elif OPERACION == \"4\":\n",
    "        division_1()\n",
    "    elif OPERACION == \"5\":\n",
    "        potency_1()\n",
    "    else:\n",
    "        print(\"Not vlaid option, choose one between 1 and 5\")\n",
    "\n",
    "# Ejecutar el programa principal *(Esto lo tuve q investigar pq no funcionabaJsjs)\n",
    "if __name__ == \"__main__\":\n",
    "    main()"
   ]
  },
  {
   "cell_type": "code",
   "execution_count": null,
   "id": "698968d5-6330-4e70-bae1-881063a78b52",
   "metadata": {},
   "outputs": [],
   "source": []
  }
 ],
 "metadata": {
  "kernelspec": {
   "display_name": "Python 3 (ipykernel)",
   "language": "python",
   "name": "python3"
  },
  "language_info": {
   "codemirror_mode": {
    "name": "ipython",
    "version": 3
   },
   "file_extension": ".py",
   "mimetype": "text/x-python",
   "name": "python",
   "nbconvert_exporter": "python",
   "pygments_lexer": "ipython3",
   "version": "3.11.7"
  }
 },
 "nbformat": 4,
 "nbformat_minor": 5
}
