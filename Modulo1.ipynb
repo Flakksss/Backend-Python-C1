{
 "cells": [
  {
   "cell_type": "code",
   "execution_count": 1,
   "id": "faf812f0-848f-4707-af91-fc24240b4d03",
   "metadata": {},
   "outputs": [
    {
     "name": "stdout",
     "output_type": "stream",
     "text": [
      "Hello world!\n"
     ]
    }
   ],
   "source": [
    "print (\"Hello world!\")"
   ]
  },
  {
   "cell_type": "code",
   "execution_count": 2,
   "id": "5fcfe038-85a5-48d1-9747-57a9c0076499",
   "metadata": {},
   "outputs": [
    {
     "name": "stdout",
     "output_type": "stream",
     "text": [
      "Hi, my name is ELi Ruiz\n"
     ]
    }
   ],
   "source": [
    "print (\"Hi, my name is ELi Ruiz\")"
   ]
  },
  {
   "cell_type": "code",
   "execution_count": null,
   "id": "e9d719b6-c063-47b3-80ee-72dc608aa84e",
   "metadata": {},
   "outputs": [],
   "source": []
  }
 ],
 "metadata": {
  "kernelspec": {
   "display_name": "Python 3 (ipykernel)",
   "language": "python",
   "name": "python3"
  },
  "language_info": {
   "codemirror_mode": {
    "name": "ipython",
    "version": 3
   },
   "file_extension": ".py",
   "mimetype": "text/x-python",
   "name": "python",
   "nbconvert_exporter": "python",
   "pygments_lexer": "ipython3",
   "version": "3.11.7"
  }
 },
 "nbformat": 4,
 "nbformat_minor": 5
}
