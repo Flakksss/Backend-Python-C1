{
 "cells": [
  {
   "cell_type": "markdown",
   "id": "d1bce5fd-1872-45bf-93ec-16d29893ae00",
   "metadata": {},
   "source": [
    "# Python distingue entre mayusculas y minusculas / Python is case-sensitive"
   ]
  },
  {
   "cell_type": "code",
   "execution_count": 2,
   "id": "8d98dae4-5608-4c5b-84df-cf7eba36fce1",
   "metadata": {},
   "outputs": [
    {
     "name": "stdout",
     "output_type": "stream",
     "text": [
      "The course is:  Backend Python\n"
     ]
    }
   ],
   "source": [
    "A = \"Backend Python\"\n",
    "print(\"The course is: \",A)"
   ]
  },
  {
   "cell_type": "code",
   "execution_count": 3,
   "id": "d7da8800-4343-44fd-8aed-af11cc0ec5d1",
   "metadata": {},
   "outputs": [
    {
     "ename": "NameError",
     "evalue": "name 'a' is not defined",
     "output_type": "error",
     "traceback": [
      "\u001b[1;31m---------------------------------------------------------------------------\u001b[0m",
      "\u001b[1;31mNameError\u001b[0m                                 Traceback (most recent call last)",
      "Cell \u001b[1;32mIn[3], line 2\u001b[0m\n\u001b[0;32m      1\u001b[0m A \u001b[38;5;241m=\u001b[39m \u001b[38;5;124m\"\u001b[39m\u001b[38;5;124mBackend Python\u001b[39m\u001b[38;5;124m\"\u001b[39m\n\u001b[1;32m----> 2\u001b[0m \u001b[38;5;28mprint\u001b[39m(\u001b[38;5;124m\"\u001b[39m\u001b[38;5;124mThe course is: \u001b[39m\u001b[38;5;124m\"\u001b[39m,a)\n",
      "\u001b[1;31mNameError\u001b[0m: name 'a' is not defined"
     ]
    }
   ],
   "source": [
    "A = \"Backend Python\"\n",
    "print(\"The course is: \",a)"
   ]
  },
  {
   "cell_type": "markdown",
   "id": "1ca664c3-6476-4a3b-967d-bf4ef8e6c537",
   "metadata": {},
   "source": [
    "## RESERVED WORDS IN PYTHON / palabras reservadas en python "
   ]
  },
  {
   "cell_type": "code",
   "execution_count": 7,
   "id": "4288987b-7a52-44db-b3e0-49e3bb8acc6c",
   "metadata": {
    "scrolled": true
   },
   "outputs": [
    {
     "name": "stdout",
     "output_type": "stream",
     "text": [
      "\n",
      "Here is a list of the Python keywords.  Enter any keyword to get more help.\n",
      "\n",
      "False               class               from                or\n",
      "None                continue            global              pass\n",
      "True                def                 if                  raise\n",
      "and                 del                 import              return\n",
      "as                  elif                in                  try\n",
      "assert              else                is                  while\n",
      "async               except              lambda              with\n",
      "await               finally             nonlocal            yield\n",
      "break               for                 not                 \n",
      "\n"
     ]
    }
   ],
   "source": [
    "help(\"keywords\")"
   ]
  },
  {
   "cell_type": "markdown",
   "id": "78d27a73-ad31-4884-88a6-21b3d258de6b",
   "metadata": {},
   "source": [
    "## ESCAPE CHARACTER / caracteres de escape "
   ]
  },
  {
   "cell_type": "code",
   "execution_count": 9,
   "id": "9c513aaf-bc5f-4501-859b-35380e1d2183",
   "metadata": {},
   "outputs": [
    {
     "data": {
      "text/plain": [
       "\"'\""
      ]
     },
     "execution_count": 9,
     "metadata": {},
     "output_type": "execute_result"
    }
   ],
   "source": [
    "\"\\'\" # Single Quote "
   ]
  },
  {
   "cell_type": "code",
   "execution_count": 10,
   "id": "9e9ea389-5ffb-475c-958c-f5a4aefc043c",
   "metadata": {},
   "outputs": [
    {
     "ename": "SyntaxError",
     "evalue": "incomplete input (3857640367.py, line 1)",
     "output_type": "error",
     "traceback": [
      "\u001b[1;36m  Cell \u001b[1;32mIn[10], line 1\u001b[1;36m\u001b[0m\n\u001b[1;33m    '''\u001b[0m\n\u001b[1;37m    ^\u001b[0m\n\u001b[1;31mSyntaxError\u001b[0m\u001b[1;31m:\u001b[0m incomplete input\n"
     ]
    }
   ],
   "source": [
    "'''"
   ]
  },
  {
   "cell_type": "code",
   "execution_count": 11,
   "id": "88071754-06e4-41f8-98aa-da5347705f43",
   "metadata": {},
   "outputs": [
    {
     "data": {
      "text/plain": [
       "\"'\""
      ]
     },
     "execution_count": 11,
     "metadata": {},
     "output_type": "execute_result"
    }
   ],
   "source": [
    "'\\''"
   ]
  },
  {
   "cell_type": "code",
   "execution_count": 12,
   "id": "556e137f-4031-4681-8fda-e9780d769603",
   "metadata": {},
   "outputs": [
    {
     "data": {
      "text/plain": [
       "'\"'"
      ]
     },
     "execution_count": 12,
     "metadata": {},
     "output_type": "execute_result"
    }
   ],
   "source": [
    "\"\\\"\" # Double Quote"
   ]
  },
  {
   "cell_type": "code",
   "execution_count": 13,
   "id": "0b94b953-806b-4015-811e-a3882dbf52cd",
   "metadata": {},
   "outputs": [
    {
     "data": {
      "text/plain": [
       "'\\n'"
      ]
     },
     "execution_count": 13,
     "metadata": {},
     "output_type": "execute_result"
    }
   ],
   "source": [
    "\"\\n\" #New Line"
   ]
  },
  {
   "cell_type": "code",
   "execution_count": 14,
   "id": "1dbeed5a-571f-4b50-a4c7-e695a5189d89",
   "metadata": {},
   "outputs": [
    {
     "name": "stdout",
     "output_type": "stream",
     "text": [
      "Backend Python\n",
      "Eli Ruiz\n"
     ]
    }
   ],
   "source": [
    "my_course = \"Backend Python\\nEli Ruiz\"\n",
    "print(my_course)"
   ]
  },
  {
   "cell_type": "code",
   "execution_count": 15,
   "id": "6b44b994-2197-4b0e-b2b6-2abba35c0241",
   "metadata": {},
   "outputs": [
    {
     "data": {
      "text/plain": [
       "'\\t'"
      ]
     },
     "execution_count": 15,
     "metadata": {},
     "output_type": "execute_result"
    }
   ],
   "source": [
    "\"\\t\""
   ]
  },
  {
   "cell_type": "code",
   "execution_count": 17,
   "id": "684dbabb-45c6-48dd-b59f-aed5e957e6ca",
   "metadata": {},
   "outputs": [
    {
     "name": "stdout",
     "output_type": "stream",
     "text": [
      "Backend Python\tEli\tRuiz\n"
     ]
    }
   ],
   "source": [
    "my_course = \"Backend Python\\tEli\\tRuiz\"\n",
    "print(my_course)"
   ]
  },
  {
   "cell_type": "code",
   "execution_count": 18,
   "id": "5f96e249-14f5-42e4-88c1-fc4938d7d878",
   "metadata": {},
   "outputs": [
    {
     "data": {
      "text/plain": [
       "'\\r'"
      ]
     },
     "execution_count": 18,
     "metadata": {},
     "output_type": "execute_result"
    }
   ],
   "source": [
    "\"\\r\" # Carriage Return "
   ]
  },
  {
   "cell_type": "code",
   "execution_count": 20,
   "id": "96e9e83f-1bdd-40da-bcaf-52500b774ebe",
   "metadata": {},
   "outputs": [
    {
     "name": "stdout",
     "output_type": "stream",
     "text": [
      "Eli\tRuiz\n"
     ]
    }
   ],
   "source": [
    "my_course = \"Backend \\rPython\\rEli\\tRuiz\"\n",
    "print(my_course)"
   ]
  },
  {
   "cell_type": "code",
   "execution_count": 21,
   "id": "3a2d269b-2fa9-443b-bd8c-91699515b70d",
   "metadata": {},
   "outputs": [
    {
     "data": {
      "text/plain": [
       "'\\x08'"
      ]
     },
     "execution_count": 21,
     "metadata": {},
     "output_type": "execute_result"
    }
   ],
   "source": [
    "\"\\b\" # BackSpace "
   ]
  },
  {
   "cell_type": "code",
   "execution_count": 25,
   "id": "c46b25b1-d7ae-47f9-baec-2278d53cfd0e",
   "metadata": {},
   "outputs": [
    {
     "name": "stdout",
     "output_type": "stream",
     "text": [
      "Backen Python\tEli\tRui\n"
     ]
    }
   ],
   "source": [
    "my_course = \"Backend\\b Python\\tEli\\tRuiz\\b\"\n",
    "# Va a eliminar la 'd' y la 'z'\n",
    "print(my_course)"
   ]
  },
  {
   "cell_type": "code",
   "execution_count": 26,
   "id": "04f5f6e8-2e2c-4711-9568-066c6b76b2dc",
   "metadata": {},
   "outputs": [
    {
     "data": {
      "text/plain": [
       "'\\\\ooo'"
      ]
     },
     "execution_count": 26,
     "metadata": {},
     "output_type": "execute_result"
    }
   ],
   "source": [
    "\"\\ooo\" #octal"
   ]
  },
  {
   "cell_type": "code",
   "execution_count": 27,
   "id": "5cca99c8-eec4-4b03-9280-98f0ad6fdf2b",
   "metadata": {},
   "outputs": [
    {
     "name": "stdout",
     "output_type": "stream",
     "text": [
      "Hola\n"
     ]
    }
   ],
   "source": [
    "hello_spanish_octal = \"\\110\\157\\154\\141\"\n",
    "print(hello_spanish_octal)"
   ]
  },
  {
   "cell_type": "code",
   "execution_count": 28,
   "id": "63eb9573-bedc-443d-9653-282b20097b37",
   "metadata": {},
   "outputs": [],
   "source": [
    "#\"\\xhh\" #Hexadecimal"
   ]
  },
  {
   "cell_type": "code",
   "execution_count": 29,
   "id": "61000372-dbb4-495a-ab64-a7576df2b4ce",
   "metadata": {},
   "outputs": [
    {
     "name": "stdout",
     "output_type": "stream",
     "text": [
      "Hola\n"
     ]
    }
   ],
   "source": [
    "hello_spanish_hex = \"\\x48\\x6f\\x6c\\c61\"\n",
    "print(hello_spanish_octal)"
   ]
  },
  {
   "cell_type": "markdown",
   "id": "2093069d-ddbc-4321-bad7-71201ffbee09",
   "metadata": {},
   "source": [
    "## Funcion Eval() "
   ]
  },
  {
   "cell_type": "code",
   "execution_count": 31,
   "id": "93e6a4e3-950d-467d-b5b8-2f5c47ce2e2d",
   "metadata": {},
   "outputs": [
    {
     "name": "stdout",
     "output_type": "stream",
     "text": [
      "1022\n"
     ]
    }
   ],
   "source": [
    "my_number = 22 \n",
    "print(eval(\"my_number+1000\"))"
   ]
  },
  {
   "cell_type": "code",
   "execution_count": 34,
   "id": "7d0f35d5-98a5-4c46-a4ba-cd73bce84683",
   "metadata": {},
   "outputs": [
    {
     "name": "stdin",
     "output_type": "stream",
     "text": [
      "Enter a number:  123\n"
     ]
    }
   ],
   "source": [
    "my_input = input(\"Enter a number: \")"
   ]
  },
  {
   "cell_type": "code",
   "execution_count": 35,
   "id": "6fca17b8-98a6-49b0-9091-136cc5e51c3a",
   "metadata": {},
   "outputs": [
    {
     "data": {
      "text/plain": [
       "'123'"
      ]
     },
     "execution_count": 35,
     "metadata": {},
     "output_type": "execute_result"
    }
   ],
   "source": [
    "my_input"
   ]
  },
  {
   "cell_type": "code",
   "execution_count": 36,
   "id": "38c4fd59-3233-488d-bc92-b6c46ca2f82d",
   "metadata": {},
   "outputs": [
    {
     "data": {
      "text/plain": [
       "123"
      ]
     },
     "execution_count": 36,
     "metadata": {},
     "output_type": "execute_result"
    }
   ],
   "source": [
    "eval(my_input)"
   ]
  },
  {
   "cell_type": "code",
   "execution_count": 37,
   "id": "f12a3af4-47c0-4c8e-8deb-7f5ec48d340a",
   "metadata": {},
   "outputs": [
    {
     "name": "stdin",
     "output_type": "stream",
     "text": [
      "Enter a number:  456\n"
     ]
    },
    {
     "name": "stdout",
     "output_type": "stream",
     "text": [
      "456\n",
      "<class 'str'>\n"
     ]
    }
   ],
   "source": [
    "my_input = input(\"Enter a number: \")\n",
    "print(my_input)\n",
    "print(type(my_input))\n",
    "# Type:String "
   ]
  },
  {
   "cell_type": "code",
   "execution_count": 38,
   "id": "3283eaa9-9d28-4dbc-a59b-27842232a1ac",
   "metadata": {},
   "outputs": [
    {
     "name": "stdin",
     "output_type": "stream",
     "text": [
      "Enter a number:  123\n"
     ]
    },
    {
     "name": "stdout",
     "output_type": "stream",
     "text": [
      "123\n",
      "<class 'int'>\n"
     ]
    }
   ],
   "source": [
    "my_input = eval(input(\"Enter a number: \"))\n",
    "print(my_input)\n",
    "print(type(my_input))\n",
    "# Type:INT "
   ]
  },
  {
   "cell_type": "markdown",
   "id": "d877f333-ec09-4a57-ba46-75bb6201f7c2",
   "metadata": {},
   "source": [
    "## Funcion Range()"
   ]
  },
  {
   "cell_type": "markdown",
   "id": "c4e0b46b-c26d-4bdc-b91a-4bdc79658922",
   "metadata": {},
   "source": [
    "### range(start, stop, step)"
   ]
  },
  {
   "cell_type": "code",
   "execution_count": 40,
   "id": "49b316f1-0297-48dc-9b7b-d2f622737512",
   "metadata": {},
   "outputs": [],
   "source": [
    "x = range(10)"
   ]
  },
  {
   "cell_type": "code",
   "execution_count": 41,
   "id": "bb0de591-a0c5-4bb5-8d25-67932d814603",
   "metadata": {},
   "outputs": [
    {
     "data": {
      "text/plain": [
       "range(0, 10)"
      ]
     },
     "execution_count": 41,
     "metadata": {},
     "output_type": "execute_result"
    }
   ],
   "source": [
    "x"
   ]
  },
  {
   "cell_type": "code",
   "execution_count": 42,
   "id": "783cab74-4361-42d6-bece-f22f5e53c345",
   "metadata": {},
   "outputs": [
    {
     "name": "stdout",
     "output_type": "stream",
     "text": [
      "0\n",
      "1\n",
      "2\n",
      "3\n",
      "4\n",
      "5\n",
      "6\n",
      "7\n",
      "8\n",
      "9\n"
     ]
    }
   ],
   "source": [
    "for number in x:\n",
    "    print(number)"
   ]
  },
  {
   "cell_type": "code",
   "execution_count": 43,
   "id": "388261e9-00f9-401f-a96b-2b297d261b18",
   "metadata": {},
   "outputs": [
    {
     "name": "stdout",
     "output_type": "stream",
     "text": [
      "3\n",
      "4\n",
      "5\n"
     ]
    }
   ],
   "source": [
    "x = range(3,6)\n",
    "for number in x:\n",
    "        print(number)"
   ]
  },
  {
   "cell_type": "code",
   "execution_count": 49,
   "id": "257332e3-cedd-4016-ab9e-313e3ad5e48e",
   "metadata": {},
   "outputs": [
    {
     "name": "stdout",
     "output_type": "stream",
     "text": [
      "3\n",
      "5\n",
      "7\n",
      "9\n",
      "11\n",
      "13\n",
      "15\n",
      "17\n",
      "19\n"
     ]
    }
   ],
   "source": [
    "x = range(3,20,2)\n",
    "for number in x:\n",
    "        print(number)"
   ]
  },
  {
   "cell_type": "markdown",
   "id": "20ca7a7b-681b-4ed4-b2af-ecc6fb2bf607",
   "metadata": {},
   "source": [
    "## MUTABILITY AND IMMUTABILITY"
   ]
  },
  {
   "cell_type": "code",
   "execution_count": 1,
   "id": "0daffaed-4465-41d5-8ae6-353657c61d0f",
   "metadata": {},
   "outputs": [],
   "source": [
    "tuplel =  (1,2,3,4,5)"
   ]
  },
  {
   "cell_type": "code",
   "execution_count": 2,
   "id": "337b2426-6ec8-493b-9665-c0b91b1d7133",
   "metadata": {},
   "outputs": [
    {
     "data": {
      "text/plain": [
       "(1, 2, 3, 4, 5)"
      ]
     },
     "execution_count": 2,
     "metadata": {},
     "output_type": "execute_result"
    }
   ],
   "source": [
    "tuplel"
   ]
  },
  {
   "cell_type": "code",
   "execution_count": 3,
   "id": "4ed22f14-aeed-41a6-bdce-a50cb50d9e20",
   "metadata": {},
   "outputs": [
    {
     "ename": "TypeError",
     "evalue": "'tuple' object does not support item assignment",
     "output_type": "error",
     "traceback": [
      "\u001b[1;31m---------------------------------------------------------------------------\u001b[0m",
      "\u001b[1;31mTypeError\u001b[0m                                 Traceback (most recent call last)",
      "Cell \u001b[1;32mIn[3], line 2\u001b[0m\n\u001b[0;32m      1\u001b[0m \u001b[38;5;66;03m#Immutability\u001b[39;00m\n\u001b[1;32m----> 2\u001b[0m tuplel[\u001b[38;5;241m0\u001b[39m] \u001b[38;5;241m=\u001b[39m \u001b[38;5;241m10\u001b[39m\n",
      "\u001b[1;31mTypeError\u001b[0m: 'tuple' object does not support item assignment"
     ]
    }
   ],
   "source": [
    "#Immutability\n",
    "tuplel[0] = 10"
   ]
  },
  {
   "cell_type": "code",
   "execution_count": 6,
   "id": "3b341d5c-a9e8-4cb4-8ee4-4a44533f3ecb",
   "metadata": {},
   "outputs": [],
   "source": [
    "my_string = \"Learning about immutability\""
   ]
  },
  {
   "cell_type": "code",
   "execution_count": 7,
   "id": "1544d476-e2a3-4aa4-b418-6d4f31825219",
   "metadata": {},
   "outputs": [
    {
     "data": {
      "text/plain": [
       "'Learning about immutability'"
      ]
     },
     "execution_count": 7,
     "metadata": {},
     "output_type": "execute_result"
    }
   ],
   "source": [
    "my_string"
   ]
  },
  {
   "cell_type": "code",
   "execution_count": 8,
   "id": "dd717db4-0bff-46f6-89ee-6bf463447e0d",
   "metadata": {},
   "outputs": [
    {
     "ename": "TypeError",
     "evalue": "'str' object does not support item assignment",
     "output_type": "error",
     "traceback": [
      "\u001b[1;31m---------------------------------------------------------------------------\u001b[0m",
      "\u001b[1;31mTypeError\u001b[0m                                 Traceback (most recent call last)",
      "Cell \u001b[1;32mIn[8], line 1\u001b[0m\n\u001b[1;32m----> 1\u001b[0m my_string[\u001b[38;5;241m0\u001b[39m] \u001b[38;5;241m=\u001b[39m \u001b[38;5;124m\"\u001b[39m\u001b[38;5;124ma\u001b[39m\u001b[38;5;124m\"\u001b[39m\n",
      "\u001b[1;31mTypeError\u001b[0m: 'str' object does not support item assignment"
     ]
    }
   ],
   "source": [
    "my_string[0] = \"a\""
   ]
  },
  {
   "cell_type": "code",
   "execution_count": 9,
   "id": "be14b874-13ef-4d42-a4de-c0bff515ef7f",
   "metadata": {},
   "outputs": [],
   "source": [
    "colors = [\"rojo\",\"verde\",\"azul\", \"negro\"]"
   ]
  },
  {
   "cell_type": "code",
   "execution_count": 10,
   "id": "31de215c-1365-40ad-a364-d45ad837bef0",
   "metadata": {},
   "outputs": [
    {
     "data": {
      "text/plain": [
       "['rojo', 'verde', 'azul', 'negro']"
      ]
     },
     "execution_count": 10,
     "metadata": {},
     "output_type": "execute_result"
    }
   ],
   "source": [
    "colors"
   ]
  },
  {
   "cell_type": "code",
   "execution_count": 11,
   "id": "d05859bf-2b69-4247-b882-6579a15719f9",
   "metadata": {},
   "outputs": [],
   "source": [
    "colors[0] = \"white\""
   ]
  },
  {
   "cell_type": "code",
   "execution_count": 12,
   "id": "344e18a4-1cb5-4965-8d54-4c7207ce0b4e",
   "metadata": {},
   "outputs": [
    {
     "data": {
      "text/plain": [
       "['white', 'verde', 'azul', 'negro']"
      ]
     },
     "execution_count": 12,
     "metadata": {},
     "output_type": "execute_result"
    }
   ],
   "source": [
    "colors"
   ]
  },
  {
   "cell_type": "markdown",
   "id": "910586e0-485c-4189-aff7-2e17e7dcaa4b",
   "metadata": {},
   "source": [
    "## Funcion Print()"
   ]
  },
  {
   "cell_type": "code",
   "execution_count": 13,
   "id": "12791bfe-fad3-4c8b-b394-d5b55f64795c",
   "metadata": {},
   "outputs": [],
   "source": [
    "#show a result"
   ]
  },
  {
   "cell_type": "code",
   "execution_count": 14,
   "id": "768d6001-bb36-4e85-b62d-ef23f9c833a6",
   "metadata": {},
   "outputs": [],
   "source": [
    "my_variable = 567"
   ]
  },
  {
   "cell_type": "code",
   "execution_count": 15,
   "id": "7c5600d9-fa39-4808-a0c6-5c9e1e5017b3",
   "metadata": {},
   "outputs": [
    {
     "name": "stdout",
     "output_type": "stream",
     "text": [
      "the value of my variable is:  567\n"
     ]
    }
   ],
   "source": [
    "print(\"the value of my variable is: \",my_variable)"
   ]
  },
  {
   "cell_type": "code",
   "execution_count": 17,
   "id": "51e3eac3-b5dc-4ba5-b8dd-518ea4d6a5ab",
   "metadata": {},
   "outputs": [
    {
     "name": "stdout",
     "output_type": "stream",
     "text": [
      "The vaue of d is:  800\n"
     ]
    }
   ],
   "source": [
    "a=100\n",
    "b=500\n",
    "c=200\n",
    "d=a+b+c\n",
    "print(\"The vaue of d is: \", d)"
   ]
  },
  {
   "cell_type": "code",
   "execution_count": 18,
   "id": "333afc13-1630-4506-b4a3-32875f44ab25",
   "metadata": {},
   "outputs": [],
   "source": [
    "import builtins"
   ]
  },
  {
   "cell_type": "code",
   "execution_count": 19,
   "id": "d6f7ed8b-8a85-48da-aa44-0c6ee1737e14",
   "metadata": {},
   "outputs": [
    {
     "name": "stdout",
     "output_type": "stream",
     "text": [
      "Help on built-in function print in module builtins:\n",
      "\n",
      "print(*args, sep=' ', end='\\n', file=None, flush=False)\n",
      "    Prints the values to a stream, or to sys.stdout by default.\n",
      "    \n",
      "    sep\n",
      "      string inserted between values, default a space.\n",
      "    end\n",
      "      string appended after the last value, default a newline.\n",
      "    file\n",
      "      a file-like object (stream); defaults to the current sys.stdout.\n",
      "    flush\n",
      "      whether to forcibly flush the stream.\n",
      "\n"
     ]
    }
   ],
   "source": [
    "help(builtins.print)"
   ]
  },
  {
   "cell_type": "code",
   "execution_count": 20,
   "id": "751c580f-1290-443a-ab16-b04491585f5e",
   "metadata": {},
   "outputs": [
    {
     "data": {
      "text/plain": [
       "['ArithmeticError',\n",
       " 'AssertionError',\n",
       " 'AttributeError',\n",
       " 'BaseException',\n",
       " 'BaseExceptionGroup',\n",
       " 'BlockingIOError',\n",
       " 'BrokenPipeError',\n",
       " 'BufferError',\n",
       " 'BytesWarning',\n",
       " 'ChildProcessError',\n",
       " 'ConnectionAbortedError',\n",
       " 'ConnectionError',\n",
       " 'ConnectionRefusedError',\n",
       " 'ConnectionResetError',\n",
       " 'DeprecationWarning',\n",
       " 'EOFError',\n",
       " 'Ellipsis',\n",
       " 'EncodingWarning',\n",
       " 'EnvironmentError',\n",
       " 'Exception',\n",
       " 'ExceptionGroup',\n",
       " 'False',\n",
       " 'FileExistsError',\n",
       " 'FileNotFoundError',\n",
       " 'FloatingPointError',\n",
       " 'FutureWarning',\n",
       " 'GeneratorExit',\n",
       " 'IOError',\n",
       " 'ImportError',\n",
       " 'ImportWarning',\n",
       " 'IndentationError',\n",
       " 'IndexError',\n",
       " 'InterruptedError',\n",
       " 'IsADirectoryError',\n",
       " 'KeyError',\n",
       " 'KeyboardInterrupt',\n",
       " 'LookupError',\n",
       " 'MemoryError',\n",
       " 'ModuleNotFoundError',\n",
       " 'NameError',\n",
       " 'None',\n",
       " 'NotADirectoryError',\n",
       " 'NotImplemented',\n",
       " 'NotImplementedError',\n",
       " 'OSError',\n",
       " 'OverflowError',\n",
       " 'PendingDeprecationWarning',\n",
       " 'PermissionError',\n",
       " 'ProcessLookupError',\n",
       " 'RecursionError',\n",
       " 'ReferenceError',\n",
       " 'ResourceWarning',\n",
       " 'RuntimeError',\n",
       " 'RuntimeWarning',\n",
       " 'StopAsyncIteration',\n",
       " 'StopIteration',\n",
       " 'SyntaxError',\n",
       " 'SyntaxWarning',\n",
       " 'SystemError',\n",
       " 'SystemExit',\n",
       " 'TabError',\n",
       " 'TimeoutError',\n",
       " 'True',\n",
       " 'TypeError',\n",
       " 'UnboundLocalError',\n",
       " 'UnicodeDecodeError',\n",
       " 'UnicodeEncodeError',\n",
       " 'UnicodeError',\n",
       " 'UnicodeTranslateError',\n",
       " 'UnicodeWarning',\n",
       " 'UserWarning',\n",
       " 'ValueError',\n",
       " 'Warning',\n",
       " 'WindowsError',\n",
       " 'ZeroDivisionError',\n",
       " '__IPYTHON__',\n",
       " '__build_class__',\n",
       " '__debug__',\n",
       " '__doc__',\n",
       " '__import__',\n",
       " '__loader__',\n",
       " '__name__',\n",
       " '__package__',\n",
       " '__spec__',\n",
       " 'abs',\n",
       " 'aiter',\n",
       " 'all',\n",
       " 'anext',\n",
       " 'any',\n",
       " 'ascii',\n",
       " 'bin',\n",
       " 'bool',\n",
       " 'breakpoint',\n",
       " 'bytearray',\n",
       " 'bytes',\n",
       " 'callable',\n",
       " 'chr',\n",
       " 'classmethod',\n",
       " 'compile',\n",
       " 'complex',\n",
       " 'copyright',\n",
       " 'credits',\n",
       " 'delattr',\n",
       " 'dict',\n",
       " 'dir',\n",
       " 'display',\n",
       " 'divmod',\n",
       " 'enumerate',\n",
       " 'eval',\n",
       " 'exec',\n",
       " 'execfile',\n",
       " 'filter',\n",
       " 'float',\n",
       " 'format',\n",
       " 'frozenset',\n",
       " 'get_ipython',\n",
       " 'getattr',\n",
       " 'globals',\n",
       " 'hasattr',\n",
       " 'hash',\n",
       " 'help',\n",
       " 'hex',\n",
       " 'id',\n",
       " 'input',\n",
       " 'int',\n",
       " 'isinstance',\n",
       " 'issubclass',\n",
       " 'iter',\n",
       " 'len',\n",
       " 'license',\n",
       " 'list',\n",
       " 'locals',\n",
       " 'map',\n",
       " 'max',\n",
       " 'memoryview',\n",
       " 'min',\n",
       " 'next',\n",
       " 'object',\n",
       " 'oct',\n",
       " 'open',\n",
       " 'ord',\n",
       " 'pow',\n",
       " 'print',\n",
       " 'property',\n",
       " 'range',\n",
       " 'repr',\n",
       " 'reversed',\n",
       " 'round',\n",
       " 'runfile',\n",
       " 'set',\n",
       " 'setattr',\n",
       " 'slice',\n",
       " 'sorted',\n",
       " 'staticmethod',\n",
       " 'str',\n",
       " 'sum',\n",
       " 'super',\n",
       " 'tuple',\n",
       " 'type',\n",
       " 'vars',\n",
       " 'zip']"
      ]
     },
     "execution_count": 20,
     "metadata": {},
     "output_type": "execute_result"
    }
   ],
   "source": [
    "dir(builtins)"
   ]
  },
  {
   "cell_type": "markdown",
   "id": "aae4a22f-7e4b-4a87-bae1-ca60dbbb7684",
   "metadata": {},
   "source": [
    "# Funcion Type()"
   ]
  },
  {
   "cell_type": "code",
   "execution_count": 21,
   "id": "fe534860-488c-41e1-8084-2b9f2fa29615",
   "metadata": {},
   "outputs": [
    {
     "name": "stdout",
     "output_type": "stream",
     "text": [
      "570\n"
     ]
    }
   ],
   "source": [
    "my_number=570\n",
    "print(my_number)"
   ]
  },
  {
   "cell_type": "code",
   "execution_count": 22,
   "id": "c69321bd-0da7-45ea-a65f-dd0f907014a2",
   "metadata": {},
   "outputs": [
    {
     "name": "stdout",
     "output_type": "stream",
     "text": [
      "<class 'int'>\n"
     ]
    }
   ],
   "source": [
    "print(type(my_number))"
   ]
  },
  {
   "cell_type": "code",
   "execution_count": 23,
   "id": "d332540b-f994-497c-9ede-2f12827470a2",
   "metadata": {},
   "outputs": [],
   "source": [
    "#string"
   ]
  },
  {
   "cell_type": "code",
   "execution_count": 24,
   "id": "209b8e5b-697c-48c7-a4a4-7a0e4d16af7a",
   "metadata": {},
   "outputs": [
    {
     "name": "stdout",
     "output_type": "stream",
     "text": [
      "Backend Python\n",
      "<class 'str'>\n"
     ]
    }
   ],
   "source": [
    "my_string = \"Backend Python\"\n",
    "print(my_string)\n",
    "print(type(my_string))"
   ]
  },
  {
   "cell_type": "code",
   "execution_count": 25,
   "id": "3f204c37-5a73-4d34-9a15-14c2c1ad2e2e",
   "metadata": {},
   "outputs": [],
   "source": [
    "#float"
   ]
  },
  {
   "cell_type": "code",
   "execution_count": 26,
   "id": "b5820e79-f2e3-4046-9c26-02ba9675051a",
   "metadata": {},
   "outputs": [
    {
     "name": "stdout",
     "output_type": "stream",
     "text": [
      "3.57\n",
      "<class 'float'>\n"
     ]
    }
   ],
   "source": [
    "my_float = 3.57\n",
    "print(my_float)\n",
    "print(type(my_float))"
   ]
  },
  {
   "cell_type": "code",
   "execution_count": 27,
   "id": "380bde22-b9b6-4dd0-99a4-19645678cfce",
   "metadata": {},
   "outputs": [],
   "source": [
    "# Boolean"
   ]
  },
  {
   "cell_type": "code",
   "execution_count": 28,
   "id": "a4f3750c-71d3-4662-9782-74f8406b8a36",
   "metadata": {},
   "outputs": [
    {
     "name": "stdout",
     "output_type": "stream",
     "text": [
      "True\n",
      "<class 'bool'>\n"
     ]
    }
   ],
   "source": [
    "my_boolean = True\n",
    "print(my_boolean)\n",
    "print(type(my_boolean))"
   ]
  },
  {
   "cell_type": "code",
   "execution_count": 29,
   "id": "2e8ad111-f0b8-4aa7-9104-696c7ae7cebd",
   "metadata": {},
   "outputs": [],
   "source": [
    "# LIST"
   ]
  },
  {
   "cell_type": "code",
   "execution_count": 30,
   "id": "7395819a-a822-484c-bbbe-3ec7a94b109c",
   "metadata": {},
   "outputs": [
    {
     "name": "stdout",
     "output_type": "stream",
     "text": [
      "[1, 7, 5, 3]\n"
     ]
    }
   ],
   "source": [
    "my_list = [1,7,5,3]\n",
    "print(my_list)"
   ]
  },
  {
   "cell_type": "code",
   "execution_count": 31,
   "id": "22204172-8ef3-46b2-a24e-4fa6eaadb11b",
   "metadata": {},
   "outputs": [
    {
     "name": "stdout",
     "output_type": "stream",
     "text": [
      "<class 'list'>\n"
     ]
    }
   ],
   "source": [
    "print(type(my_list))"
   ]
  },
  {
   "cell_type": "code",
   "execution_count": 32,
   "id": "387df155-8ffb-40b1-97c5-d3da7c8141d7",
   "metadata": {},
   "outputs": [],
   "source": [
    "#tuple"
   ]
  },
  {
   "cell_type": "code",
   "execution_count": 33,
   "id": "90c5da52-15ca-435a-8406-960486df2d2b",
   "metadata": {},
   "outputs": [
    {
     "name": "stdout",
     "output_type": "stream",
     "text": [
      "(3, 8, 2, 5)\n",
      "<class 'tuple'>\n"
     ]
    }
   ],
   "source": [
    "my_tuple = (3,8,2,5)\n",
    "print(my_tuple)\n",
    "print(type(my_tuple))"
   ]
  },
  {
   "cell_type": "code",
   "execution_count": 34,
   "id": "a83a25db-224a-440b-a8fa-fba2029a9113",
   "metadata": {},
   "outputs": [],
   "source": [
    "#SET"
   ]
  },
  {
   "cell_type": "code",
   "execution_count": 35,
   "id": "8ae741ca-dc07-4c01-88da-fe3345c473e4",
   "metadata": {},
   "outputs": [
    {
     "name": "stdout",
     "output_type": "stream",
     "text": [
      "{1, 'python', 3.24, 4}\n"
     ]
    }
   ],
   "source": [
    "my_set = {4,1,\"python\",3.24}\n",
    "print(my_set)"
   ]
  },
  {
   "cell_type": "code",
   "execution_count": 37,
   "id": "122a6894-08a5-419f-bfeb-f8d6db433d17",
   "metadata": {},
   "outputs": [
    {
     "name": "stdout",
     "output_type": "stream",
     "text": [
      "<class 'set'>\n"
     ]
    }
   ],
   "source": [
    "print(type(my_set))"
   ]
  },
  {
   "cell_type": "code",
   "execution_count": 38,
   "id": "c0e1f132-d7b1-423c-b640-3d14dcfa14f3",
   "metadata": {},
   "outputs": [],
   "source": [
    "# Dict"
   ]
  },
  {
   "cell_type": "code",
   "execution_count": 39,
   "id": "77e35c39-fa84-476f-9fcc-556023d6d8ef",
   "metadata": {},
   "outputs": [
    {
     "name": "stdout",
     "output_type": "stream",
     "text": [
      "{'a': 10, 'b': 50, 'c': 35}\n",
      "<class 'dict'>\n"
     ]
    }
   ],
   "source": [
    "my_dictionary = {\"a\":10, \"b\":50, \"c\":35}\n",
    "print(my_dictionary)\n",
    "print(type(my_dictionary))"
   ]
  },
  {
   "cell_type": "markdown",
   "id": "815e9699-e0cc-4581-a1b6-9b58dc746021",
   "metadata": {},
   "source": [
    "# Funcion id()"
   ]
  },
  {
   "cell_type": "markdown",
   "id": "acb9f6fa-0bc8-4d0e-8f85-aa191aec8b90",
   "metadata": {},
   "source": [
    "#### id() Funcion para obtener la direccion de memoria"
   ]
  },
  {
   "cell_type": "code",
   "execution_count": 41,
   "id": "04932aa3-6ceb-41e9-9bd1-6da8ec95900c",
   "metadata": {},
   "outputs": [
    {
     "name": "stdout",
     "output_type": "stream",
     "text": [
      "Python\n",
      "<class 'str'>\n",
      "140734621909928\n"
     ]
    }
   ],
   "source": [
    "my_string = \"Python\"\n",
    "print(my_string)\n",
    "print(type(my_string))\n",
    "print(id(my_string))"
   ]
  },
  {
   "cell_type": "code",
   "execution_count": 42,
   "id": "93750301-44a0-45b8-977f-08291a5d26a5",
   "metadata": {},
   "outputs": [
    {
     "name": "stdout",
     "output_type": "stream",
     "text": [
      "Backend\n",
      "<class 'str'>\n",
      "2353998731504\n"
     ]
    }
   ],
   "source": [
    "my_string2 = \"Backend\"\n",
    "print(my_string2)\n",
    "print(type(my_string2))\n",
    "print(id(my_string2))\n"
   ]
  },
  {
   "cell_type": "code",
   "execution_count": 43,
   "id": "bd771111-333b-4138-9796-eed7580a9db0",
   "metadata": {},
   "outputs": [
    {
     "name": "stdout",
     "output_type": "stream",
     "text": [
      "Backend\n",
      "Backend\n",
      "<class 'str'>\n",
      "<class 'str'>\n",
      "2353998731504\n",
      "2353998731504\n"
     ]
    }
   ],
   "source": [
    "my_string2 = \"Backend\"\n",
    "my_string3 = \"Backend\"\n",
    "print(my_string2)\n",
    "print(my_string3)\n",
    "print(type(my_string2))\n",
    "print(type(my_string3))\n",
    "print(id(my_string2))\n",
    "print(id(my_string3))\n"
   ]
  },
  {
   "cell_type": "markdown",
   "id": "d7cee100-c6af-4717-91b7-c09adf53c7e6",
   "metadata": {},
   "source": [
    "# MULTPLE INPUT VALUES"
   ]
  },
  {
   "cell_type": "code",
   "execution_count": 45,
   "id": "8041bc91-3b6b-4127-8401-2884396119e7",
   "metadata": {},
   "outputs": [
    {
     "name": "stdin",
     "output_type": "stream",
     "text": [
      "Enter the value of my_number:  123\n"
     ]
    },
    {
     "name": "stdout",
     "output_type": "stream",
     "text": [
      "The value of my_number is:  123\n"
     ]
    }
   ],
   "source": [
    "my_number = input(\"Enter the value of my_number: \")\n",
    "print(\"The value of my_number is: \", my_number)"
   ]
  },
  {
   "cell_type": "code",
   "execution_count": 46,
   "id": "bdb88538-eded-43fe-b98d-418a19650181",
   "metadata": {},
   "outputs": [
    {
     "name": "stdin",
     "output_type": "stream",
     "text": [
      "Enter he 3 values:  1 2 3\n"
     ]
    },
    {
     "name": "stdout",
     "output_type": "stream",
     "text": [
      "The value of a is:  1\n",
      "The value of b is:  2\n",
      "The value of c is:  3\n"
     ]
    }
   ],
   "source": [
    "a,b,c = input(\"Enter he 3 values: \").split()\n",
    "print(\"The value of a is: \", a)\n",
    "print(\"The value of b is: \",b)\n",
    "print(\"The value of c is: \",c)"
   ]
  },
  {
   "cell_type": "code",
   "execution_count": 48,
   "id": "306dcac9-1c6e-4744-8ab4-3d466f130354",
   "metadata": {},
   "outputs": [
    {
     "name": "stdin",
     "output_type": "stream",
     "text": [
      "Enter he 3 values separated using comma:  100,300,2\n"
     ]
    },
    {
     "name": "stdout",
     "output_type": "stream",
     "text": [
      "The value of a is:  100\n",
      "The value of b is:  300\n",
      "The value of c is:  2\n"
     ]
    }
   ],
   "source": [
    "a,b,c = input(\"Enter he 3 values separated using comma: \").split(\",\")\n",
    "print(\"The value of a is: \", a)\n",
    "print(\"The value of b is: \",b)\n",
    "print(\"The value of c is: \",c)"
   ]
  },
  {
   "cell_type": "code",
   "execution_count": null,
   "id": "d14596c1-6cfe-4328-8942-eff0c045b7d7",
   "metadata": {},
   "outputs": [],
   "source": []
  }
 ],
 "metadata": {
  "kernelspec": {
   "display_name": "Python 3 (ipykernel)",
   "language": "python",
   "name": "python3"
  },
  "language_info": {
   "codemirror_mode": {
    "name": "ipython",
    "version": 3
   },
   "file_extension": ".py",
   "mimetype": "text/x-python",
   "name": "python",
   "nbconvert_exporter": "python",
   "pygments_lexer": "ipython3",
   "version": "3.11.7"
  }
 },
 "nbformat": 4,
 "nbformat_minor": 5
}
