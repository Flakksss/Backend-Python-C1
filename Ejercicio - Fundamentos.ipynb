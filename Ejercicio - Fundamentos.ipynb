{
 "cells": [
  {
   "cell_type": "code",
   "execution_count": 1,
   "id": "a32877b3-f5da-48f3-9c1f-31d840b2202e",
   "metadata": {
    "scrolled": true
   },
   "outputs": [
    {
     "name": "stdin",
     "output_type": "stream",
     "text": [
      "Please enter an integer, a decimal and your name, separated using comma. \n",
      " 1,3.67,Sebastian\n"
     ]
    },
    {
     "name": "stdout",
     "output_type": "stream",
     "text": [
      "The value of the integer is  1 \t\t <class 'int'>\n",
      "The value of the decimal is  3.67 \t <class 'float'>\n",
      "Hello, welcome Sebastian \t\t <class 'str'>\n"
     ]
    }
   ],
   "source": [
    "a,b,c = input(\"Please enter an integer, a decimal and your name, separated using comma. \\n\").split(\",\") \n",
    "a = eval(a) \n",
    "b = eval(b)\n",
    "print(\"The value of the integer is \",a, \"\\t\\t\", type(a))\n",
    "print(\"The value of the decimal is \",b, \"\\t\", type(b))\n",
    "print(\"Hello, welcome\",c, \"\\t\\t\", type(c))"
   ]
  },
  {
   "cell_type": "code",
   "execution_count": null,
   "id": "6275f08e-15b5-4f8c-910a-b87f0b880ce0",
   "metadata": {},
   "outputs": [],
   "source": []
  },
  {
   "cell_type": "code",
   "execution_count": null,
   "id": "5f8076aa-e171-4cf9-bb1d-054a1735564f",
   "metadata": {},
   "outputs": [],
   "source": []
  }
 ],
 "metadata": {
  "kernelspec": {
   "display_name": "Python 3 (ipykernel)",
   "language": "python",
   "name": "python3"
  },
  "language_info": {
   "codemirror_mode": {
    "name": "ipython",
    "version": 3
   },
   "file_extension": ".py",
   "mimetype": "text/x-python",
   "name": "python",
   "nbconvert_exporter": "python",
   "pygments_lexer": "ipython3",
   "version": "3.11.7"
  }
 },
 "nbformat": 4,
 "nbformat_minor": 5
}
