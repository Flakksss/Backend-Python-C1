{
 "cells": [
  {
   "cell_type": "markdown",
   "id": "1a68c276-00b0-4937-b1e4-b9989ff86a37",
   "metadata": {},
   "source": [
    "# Panorama\n",
    "\n",
    "int - Integer/Enteros \n",
    "\n",
    "float - Float/Numeros con decimales\n",
    "\n",
    "comples - Complex/Complejos(Numeros con una parte real y una imaginaria)\n",
    "\n",
    "bool - Boolean/Valores Logicos (True/False)\n",
    "\n",
    "str - String/Cadenas, textos \n"
   ]
  },
  {
   "cell_type": "markdown",
   "id": "6ab8692e-b98d-48a6-8890-7e7954ee8bfd",
   "metadata": {},
   "source": [
    "# int - Integers "
   ]
  },
  {
   "cell_type": "code",
   "execution_count": 1,
   "id": "3cfde281-8a48-462c-8d08-3bf2ad3de5b1",
   "metadata": {},
   "outputs": [
    {
     "name": "stdout",
     "output_type": "stream",
     "text": [
      "The value of my_Integer is: 11\n",
      "The type of my_integer is:  <class 'int'>\n"
     ]
    }
   ],
   "source": [
    "my_integer = 11\n",
    "print(\"The value of my_Integer is:\", my_integer)\n",
    "print(\"The type of my_integer is: \", type(my_integer))"
   ]
  },
  {
   "cell_type": "code",
   "execution_count": 2,
   "id": "e484b696-afae-492f-84cc-23573abde956",
   "metadata": {},
   "outputs": [
    {
     "name": "stdout",
     "output_type": "stream",
     "text": [
      "The value of my_Integer is: 57831\n",
      "The type of my_integer is:  <class 'int'>\n"
     ]
    }
   ],
   "source": [
    "my_integer = 57831\n",
    "print(\"The value of my_Integer is:\", my_integer)\n",
    "print(\"The type of my_integer is: \", type(my_integer))"
   ]
  },
  {
   "cell_type": "code",
   "execution_count": 3,
   "id": "92f8fcee-be6f-4f48-a5eb-6fb90839cecc",
   "metadata": {},
   "outputs": [
    {
     "ename": "SyntaxError",
     "evalue": "invalid decimal literal (4248443298.py, line 2)",
     "output_type": "error",
     "traceback": [
      "\u001b[1;36m  Cell \u001b[1;32mIn[3], line 2\u001b[1;36m\u001b[0m\n\u001b[1;33m    my_integer = 11d\u001b[0m\n\u001b[1;37m                  ^\u001b[0m\n\u001b[1;31mSyntaxError\u001b[0m\u001b[1;31m:\u001b[0m invalid decimal literal\n"
     ]
    }
   ],
   "source": [
    "#error\n",
    "my_integer = 11d\n",
    "print(\"The value of my_Integer is:\", my_integer)\n",
    "print(\"The type of my_integer is: \", type(my_integer))"
   ]
  },
  {
   "cell_type": "markdown",
   "id": "9cb21aa1-a70b-4dad-aec1-36cc43c938ca",
   "metadata": {},
   "source": [
    "# float - Float/Numeros con decimales"
   ]
  },
  {
   "cell_type": "code",
   "execution_count": 4,
   "id": "64ba298e-ef8e-41c3-a855-7fe916437443",
   "metadata": {},
   "outputs": [
    {
     "name": "stdout",
     "output_type": "stream",
     "text": [
      "The value of my_float is:  11.1\n",
      "The type of my_float is:  <class 'float'>\n"
     ]
    }
   ],
   "source": [
    "my_float = 11.1\n",
    "print(\"The value of my_float is: \", my_float)\n",
    "print(\"The type of my_float is: \", type(my_float))"
   ]
  },
  {
   "cell_type": "code",
   "execution_count": 6,
   "id": "66b1e60b-5afe-4494-abe5-b535b35e06a1",
   "metadata": {},
   "outputs": [
    {
     "name": "stdout",
     "output_type": "stream",
     "text": [
      "The value of my_float is:  2000.0\n",
      "The type of my_float is:  <class 'float'>\n"
     ]
    }
   ],
   "source": [
    "# Notacion cientifica \n",
    "my_float = 2e3 # 2.0*10**3\n",
    "print(\"The value of my_float is: \", my_float)\n",
    "print(\"The type of my_float is: \", type(my_float))\n"
   ]
  },
  {
   "cell_type": "code",
   "execution_count": 7,
   "id": "e82593ea-459f-46ed-8ec6-9c28749f86c6",
   "metadata": {},
   "outputs": [
    {
     "data": {
      "text/plain": [
       "1.1"
      ]
     },
     "execution_count": 7,
     "metadata": {},
     "output_type": "execute_result"
    }
   ],
   "source": [
    "1.1"
   ]
  },
  {
   "cell_type": "code",
   "execution_count": 9,
   "id": "7385c028-46cb-47d1-830a-6504071c59f2",
   "metadata": {},
   "outputs": [
    {
     "data": {
      "text/plain": [
       "1.1"
      ]
     },
     "execution_count": 9,
     "metadata": {},
     "output_type": "execute_result"
    }
   ],
   "source": [
    "1.1e0 # 1.1*10*0"
   ]
  },
  {
   "cell_type": "code",
   "execution_count": 10,
   "id": "252bb3e3-01ec-449c-a106-87d51d800052",
   "metadata": {},
   "outputs": [
    {
     "data": {
      "text/plain": [
       "1100.0"
      ]
     },
     "execution_count": 10,
     "metadata": {},
     "output_type": "execute_result"
    }
   ],
   "source": [
    "1.1e3 # 1.1*10*3"
   ]
  },
  {
   "cell_type": "code",
   "execution_count": 11,
   "id": "388290e3-19fd-4f6b-ab80-992ecdbcfe56",
   "metadata": {},
   "outputs": [
    {
     "data": {
      "text/plain": [
       "0.0018"
      ]
     },
     "execution_count": 11,
     "metadata": {},
     "output_type": "execute_result"
    }
   ],
   "source": [
    "1.8e-3 # 8*10*-3"
   ]
  },
  {
   "cell_type": "markdown",
   "id": "d59d3533-94e5-42a3-90e5-a1a3a0023198",
   "metadata": {},
   "source": [
    "# complex (numbers with a real part and an imaginary part)\n",
    "\n",
    "complex  = x + yj\n",
    "\n",
    "x = real part\n",
    "\n",
    "yj= imaginary part"
   ]
  },
  {
   "cell_type": "code",
   "execution_count": 1,
   "id": "e7518063-490f-444b-b8b4-39f7dfefaab3",
   "metadata": {},
   "outputs": [
    {
     "name": "stdout",
     "output_type": "stream",
     "text": [
      "The value of my_complex is:  (3+9j)\n",
      "The type of my_complex is:  <class 'complex'>\n"
     ]
    }
   ],
   "source": [
    "my_complex = 3 + 9j\n",
    "print(\"The value of my_complex is: \", my_complex)\n",
    "print(\"The type of my_complex is: \", type(my_complex))"
   ]
  },
  {
   "cell_type": "code",
   "execution_count": 2,
   "id": "2bc0de9c-1cc9-4ba4-b45f-e6f23fe82012",
   "metadata": {},
   "outputs": [
    {
     "name": "stdout",
     "output_type": "stream",
     "text": [
      "The value of my_complex is:  (2+5j)\n",
      "The type of my_complex is:  <class 'complex'>\n"
     ]
    }
   ],
   "source": [
    "my_complex = 2 + 5j\n",
    "print(\"The value of my_complex is: \", my_complex)\n",
    "print(\"The type of my_complex is: \", type(my_complex))"
   ]
  },
  {
   "cell_type": "markdown",
   "id": "8e1c87a6-8162-412f-a3dc-21b881d30865",
   "metadata": {},
   "source": [
    "# bool - Boolean/Valores Logicos (True/False) LOGIC VALUES"
   ]
  },
  {
   "cell_type": "code",
   "execution_count": 3,
   "id": "96af8d60-f295-4c21-b396-87ee8022845b",
   "metadata": {},
   "outputs": [
    {
     "name": "stdout",
     "output_type": "stream",
     "text": [
      "The value of my_boolean is:  False\n",
      "The type of my_boolean is:  <class 'bool'>\n"
     ]
    }
   ],
   "source": [
    "my_boolean = False\n",
    "print(\"The value of my_boolean is: \", my_boolean)\n",
    "print(\"The type of my_boolean is: \", type(my_boolean))"
   ]
  },
  {
   "cell_type": "code",
   "execution_count": 4,
   "id": "a4e2f6e4-b265-4265-91a0-5fd161236502",
   "metadata": {},
   "outputs": [
    {
     "name": "stdout",
     "output_type": "stream",
     "text": [
      "The value of my_boolean is:  True\n",
      "The type of my_boolean is:  <class 'bool'>\n"
     ]
    }
   ],
   "source": [
    "my_boolean = True\n",
    "print(\"The value of my_boolean is: \", my_boolean)\n",
    "print(\"The type of my_boolean is: \", type(my_boolean))"
   ]
  },
  {
   "cell_type": "code",
   "execution_count": 5,
   "id": "f4966c50-ec40-4f72-8e8a-37ab3c789e4b",
   "metadata": {},
   "outputs": [],
   "source": [
    "# True = 1\n",
    "# False = 0"
   ]
  },
  {
   "cell_type": "code",
   "execution_count": 7,
   "id": "be73b7ba-76e5-4ece-99ba-473aa60144bc",
   "metadata": {},
   "outputs": [
    {
     "name": "stdout",
     "output_type": "stream",
     "text": [
      "0\n"
     ]
    }
   ],
   "source": [
    "# 0\n",
    "print(False+False+False)"
   ]
  },
  {
   "cell_type": "code",
   "execution_count": 8,
   "id": "b1b188f1-6038-48aa-8f8e-b477d64873ce",
   "metadata": {},
   "outputs": [
    {
     "name": "stdout",
     "output_type": "stream",
     "text": [
      "2\n"
     ]
    }
   ],
   "source": [
    "# 2\n",
    "print(True+False+True)"
   ]
  },
  {
   "cell_type": "code",
   "execution_count": 9,
   "id": "db7141b9-21ad-4890-b00e-7cfe4325ff06",
   "metadata": {},
   "outputs": [
    {
     "name": "stdout",
     "output_type": "stream",
     "text": [
      "1\n"
     ]
    }
   ],
   "source": [
    "#1\n",
    "print(True-True+True)"
   ]
  },
  {
   "cell_type": "code",
   "execution_count": 10,
   "id": "93e19e71-b552-4497-8a50-790e4b2ba755",
   "metadata": {},
   "outputs": [
    {
     "name": "stdout",
     "output_type": "stream",
     "text": [
      "0\n"
     ]
    }
   ],
   "source": [
    "# 0\n",
    "print(False-True+True)"
   ]
  },
  {
   "cell_type": "markdown",
   "id": "9e8fea0f-c54b-4d61-afe7-3d6fcc72841f",
   "metadata": {},
   "source": [
    "# str - String/Cadenas, textos"
   ]
  },
  {
   "cell_type": "code",
   "execution_count": 11,
   "id": "81c998c9-a697-441f-827c-3971bef89ff0",
   "metadata": {},
   "outputs": [
    {
     "name": "stdout",
     "output_type": "stream",
     "text": [
      "The value of my_string is:  Backend Python\n",
      "The type of my_string is:  <class 'str'>\n"
     ]
    }
   ],
   "source": [
    "my_string = \"Backend Python\"\n",
    "print(\"The value of my_string is: \", my_string)\n",
    "print(\"The type of my_string is: \", type(my_string))"
   ]
  },
  {
   "cell_type": "code",
   "execution_count": 12,
   "id": "b8a0a5e0-1027-4535-9746-1087bc19fe17",
   "metadata": {},
   "outputs": [
    {
     "name": "stdout",
     "output_type": "stream",
     "text": [
      "The value of my_string is:  Learnig to use strings or texts\n",
      "The type of my_string is:  <class 'str'>\n"
     ]
    }
   ],
   "source": [
    "my_string = \"Learnig to use strings or texts\"\n",
    "print(\"The value of my_string is: \", my_string)\n",
    "print(\"The type of my_string is: \", type(my_string))"
   ]
  },
  {
   "cell_type": "code",
   "execution_count": 13,
   "id": "e4dc4b67-1b53-4a0d-aeac-de3aee95772e",
   "metadata": {},
   "outputs": [
    {
     "ename": "SyntaxError",
     "evalue": "unterminated string literal (detected at line 1) (2429199271.py, line 1)",
     "output_type": "error",
     "traceback": [
      "\u001b[1;36m  Cell \u001b[1;32mIn[13], line 1\u001b[1;36m\u001b[0m\n\u001b[1;33m    my_string = 'you're amazing'\u001b[0m\n\u001b[1;37m                               ^\u001b[0m\n\u001b[1;31mSyntaxError\u001b[0m\u001b[1;31m:\u001b[0m unterminated string literal (detected at line 1)\n"
     ]
    }
   ],
   "source": [
    "my_string = 'you're amazing'\n",
    "print(\"The value of my_string is: \", my_string)\n",
    "print(\"The type of my_string is: \", type(my_string))"
   ]
  },
  {
   "cell_type": "code",
   "execution_count": 16,
   "id": "72d33aac-d4e2-409c-bf3e-95c6b5744383",
   "metadata": {},
   "outputs": [
    {
     "name": "stdout",
     "output_type": "stream",
     "text": [
      "The value of my_string is:  \n",
      "Is a string with multiple lines\n",
      "\n",
      "As you can see, it's cool for longer texts\n",
      "\n",
      "Can u iamgine how many thing you can do handling text from the Internet?\n",
      "\n",
      "The type of my_string is:  <class 'str'>\n"
     ]
    }
   ],
   "source": [
    "my_string = \"\"\"\n",
    "Is a string with multiple lines\\n\n",
    "As you can see, it's cool for longer texts\\n\n",
    "Can u iamgine how many thing you can do handling text from the Internet?\n",
    "\"\"\"\n",
    "print(\"The value of my_string is: \", my_string)\n",
    "print(\"The type of my_string is: \", type(my_string))"
   ]
  },
  {
   "cell_type": "markdown",
   "id": "adc16aa8-aa3d-429b-9335-547fd60c4aae",
   "metadata": {},
   "source": [
    "# variables \n",
    "\n",
    "### what is a variable? \n",
    "- Are a temporary space to store a value with a especific name \n",
    "- No need to declare the data type explicitly  \n",
    "- Python is a dynamically typed languaje, wich means that the data type is defined as the program runs\n",
    "-  Python variables works differently than other programming languages \n",
    "- We don't need to create a variable, we just assign a name to a value using the assignment operator \n",
    "\n",
    "## variable types / Types of variables\n",
    "- Global Variable: those that will be used for the entire program\n",
    "- Local Variables: those to be used only in a especific block "
   ]
  },
  {
   "cell_type": "markdown",
   "id": "36fc6d11-5fea-43fc-9d31-fc7d681f60f1",
   "metadata": {},
   "source": [
    "# Global Variables\n",
    "- We declare global variables outside of functions \n",
    "- Tha value of the variable can be constant for the entire program \n",
    "- Any funtion will be able to access these variables\n",
    "- We can say that the global variables have a global scope \n",
    "- Normally are more used for constants\n",
    "- The Global Variables keep his values across the complete ejecution of your program\n",
    "- One Global Variable can be access by any funtion \n"
   ]
  },
  {
   "cell_type": "code",
   "execution_count": null,
   "id": "316eceb9-e3e5-4eea-bb3f-10f69addeaab",
   "metadata": {},
   "outputs": [],
   "source": []
  }
 ],
 "metadata": {
  "kernelspec": {
   "display_name": "Python 3 (ipykernel)",
   "language": "python",
   "name": "python3"
  },
  "language_info": {
   "codemirror_mode": {
    "name": "ipython",
    "version": 3
   },
   "file_extension": ".py",
   "mimetype": "text/x-python",
   "name": "python",
   "nbconvert_exporter": "python",
   "pygments_lexer": "ipython3",
   "version": "3.11.7"
  }
 },
 "nbformat": 4,
 "nbformat_minor": 5
}
